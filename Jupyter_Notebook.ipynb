{
 "cells": [
  {
   "cell_type": "markdown",
   "metadata": {},
   "source": [
    "<center>\n",
    "    <img src=\"https://cf-courses-data.s3.us.cloud-object-storage.appdomain.cloud/IBMDeveloperSkillsNetwork-DS0105EN-SkillsNetwork/labs/Module2/images/SN_web_lightmode.png\" width=\"300\" alt=\"cognitiveclass.ai logo\">\n",
    "</center>\n"
   ]
  },
  {
   "cell_type": "markdown",
   "metadata": {},
   "source": [
    "#### Add your code below following the instructions given in the course\n"
   ]
  },
  {
   "cell_type": "markdown",
   "metadata": {},
   "source": [
    "# My Jupyter Notebook on IBM Watson Studio"
   ]
  },
  {
   "cell_type": "markdown",
   "metadata": {},
   "source": [
    "**Philipp Mogg**\n",
    "\n",
    "Physicist"
   ]
  },
  {
   "cell_type": "markdown",
   "metadata": {},
   "source": [
    "*I am interested in data science because I have done a lot of data analysis already as a physicist and now want use my experience in other, more applied fields.*"
   ]
  },
  {
   "cell_type": "markdown",
   "metadata": {},
   "source": [
    "### My code should calculate the sum of two random numbers between 0 and 100 and print out the equation."
   ]
  },
  {
   "cell_type": "code",
   "execution_count": 9,
   "metadata": {},
   "outputs": [
    {
     "name": "stdout",
     "output_type": "stream",
     "text": [
      "49 + 60 = 109\n"
     ]
    }
   ],
   "source": [
    "import random\n",
    "\n",
    "# create two random integers\n",
    "num1 = random.randint(0,100)\n",
    "num2 = random.randint(0,100)\n",
    "\n",
    "#Print out equation\n",
    "print(str(num1) + \" + \" + str(num2) + \" = \" + str(num1 + num2))"
   ]
  },
  {
   "cell_type": "markdown",
   "metadata": {},
   "source": [
    "#### Bulleted list\n",
    "* this\n",
    "* is\n",
    "* my\n",
    "* bulleted\n",
    "* list\n",
    "\n",
    "#### Numbered list\n",
    "1. And this\n",
    "2. is another list,\n",
    "3. but it's\n",
    "4. bulleted\n",
    "\n",
    "#### ~~Vertical~~Horizontal rule\n",
    "***\n",
    "\n",
    "#### Table\n",
    "| And | here| is  |\n",
    "| --- | --- | --- |\n",
    "| a   | great| table|"
   ]
  }
 ],
 "metadata": {
  "kernelspec": {
   "display_name": "Python",
   "language": "python",
   "name": "conda-env-python-py"
  },
  "language_info": {
   "codemirror_mode": {
    "name": "ipython",
    "version": 3
   },
   "file_extension": ".py",
   "mimetype": "text/x-python",
   "name": "python",
   "nbconvert_exporter": "python",
   "pygments_lexer": "ipython3",
   "version": "3.7.12"
  }
 },
 "nbformat": 4,
 "nbformat_minor": 4
}
